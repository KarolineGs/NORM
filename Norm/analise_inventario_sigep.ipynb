{
 "cells": [
  {
   "cell_type": "code",
   "execution_count": null,
   "id": "86c54d1f",
   "metadata": {},
   "outputs": [],
   "source": [
    "import os\n",
    "import pandas as pd\n",
    "import plotly.express as px\n",
    "import plotly.graph_objects as go\n",
    "from unidecode import unidecode\n",
    "import numpy as np\n",
    "from pathlib import Path\n",
    "from sklearn.model_selection import train_test_split\n",
    "from sklearn.compose import ColumnTransformer\n",
    "from sklearn.preprocessing import OneHotEncoder\n",
    "from sklearn.impute import SimpleImputer\n",
    "from sklearn.pipeline import Pipeline\n",
    "from sklearn.ensemble import RandomForestClassifier\n",
    "from sklearn.inspection import permutation_importance\n",
    "import matplotlib.pyplot as plt\n",
    "import plotly.graph_objects as go\n",
    "from plotly.subplots import make_subplots\n",
    "import ipywidgets as widgets\n",
    "import unicodedata\n",
    "from difflib import get_close_matches\n",
    "from funcoes import *\n",
    "import ipywidgets as widgets\n",
    "import geopandas as gpd\n",
    "from shapely import wkt\n",
    "import folium\n",
    "import webbrowser\n",
    "import seaborn as sns\n",
    "import scipy.stats as st\n"
   ]
  },
  {
   "cell_type": "code",
   "execution_count": null,
   "id": "fc11a144",
   "metadata": {},
   "outputs": [],
   "source": [
    "pasta = r\"C:\\Users\\Dell\\OneDrive\\Norm (1)\\Norm\""
   ]
  },
  {
   "cell_type": "code",
   "execution_count": null,
   "id": "05e35495",
   "metadata": {},
   "outputs": [],
   "source": [
    "inventario_macae = carregar_arquivo(\n",
    "    \"INVENTÁRIO_REJEITOS_NORM_MACAE_30_07_25\",\n",
    "    pasta=pasta,\n",
    "    sheet_name='Base de dados',           # ou o nome da aba, se precisar\n",
    "    search_subdirs=True,    # vasculha subpastas\n",
    "    match_mode=\"fuzzy\"      # aceita variações no nome\n",
    ")"
   ]
  },
  {
   "cell_type": "code",
   "execution_count": null,
   "id": "664f5091",
   "metadata": {},
   "outputs": [],
   "source": [
    "inventario_tims = carregar_arquivo(\n",
    "    \"Norm/INVENTÁRIO_REJEITOS_NORM_TIMS_30_07_25\",\n",
    "    pasta=pasta,\n",
    "    sheet_name='Base de dados',           # ou o nome da aba, se precisar\n",
    "    search_subdirs=True,    # vasculha subpastas\n",
    "    match_mode=\"fuzzy\"      # aceita variações no nome\n",
    ")"
   ]
  },
  {
   "cell_type": "code",
   "execution_count": null,
   "id": "4bcad34b",
   "metadata": {},
   "outputs": [],
   "source": [
    "#carregar dados da aba Sheet1 e Sheet2\n",
    "sigep_2003_2024_sheet1 = carregar_arquivo('2003_2024_SIGEP', pasta=pasta, sheet_name='Sheet1', search_subdirs=True, match_mode='fuzzy')\n",
    "\n"
   ]
  },
  {
   "cell_type": "code",
   "execution_count": null,
   "id": "84ffd634",
   "metadata": {},
   "outputs": [],
   "source": [
    "campos = carregar_arquivo(\n",
    "    \"campos\",\n",
    "    pasta=pasta,\n",
    "    sheet_name=0,           # ou o nome da aba, se precisar\n",
    "    search_subdirs=True,    # vasculha subpastas\n",
    "    match_mode=\"fuzzy\"      # aceita variações no nome\n",
    ")"
   ]
  },
  {
   "cell_type": "markdown",
   "id": "d84cc9bd",
   "metadata": {},
   "source": [
    "# Tratamento dos dados SIGEP"
   ]
  },
  {
   "cell_type": "code",
   "execution_count": null,
   "id": "e964a420",
   "metadata": {},
   "outputs": [],
   "source": [
    "# #Remover colunas da análise\n",
    "# sigep_2003_2024_sheet1_filtrado = sigep_2003_2024_sheet1.drop(columns=['Unnamed: 0', 'Estado','Bacia','Nome Poço Operador','Operador','Número do Contrato','Gás Natural (Mm³/dia) Assoc','Gás Natural (Mm³/dia) N Assoc','Volume Gás Royalties (m³/mês)','Tipo Instalação',\n",
    "#                                                                         'Tempo de Produção (hs por mês)','Corrente',',','Ambiente','Fração de Destilados|Lev|Cort','Fração de Destilados|Méd|Corte',\n",
    "#                                                                         'Fração de Destilados|Pes|Corte'])"
   ]
  },
  {
   "cell_type": "code",
   "execution_count": null,
   "id": "cae8dbcb",
   "metadata": {},
   "outputs": [],
   "source": [
    "# #tirar caracter % da col Fração de Destilados|Lev|Vol e Fração de Destilados|Méd|Vol\n",
    "# colunas = ['Fração de Destilados|Lev|Vol', 'Fração de Destilados|Méd|Vol','Fração de Destilados|Pes|Vol']\n",
    "\n",
    "\n",
    "# for col in colunas:\n",
    "#     sigep_2003_2024_sheet1_filtrado[col] = (\n",
    "#     sigep_2003_2024_sheet1_filtrado[col]\n",
    "#     .astype(str)\n",
    "#     .str.replace('%', '', regex=False)\n",
    "    \n",
    "#     .str.strip()\n",
    "#     )\n",
    "\n",
    "# # agora converte para número com segurança\n",
    "#     sigep_2003_2024_sheet1_filtrado[col] = pd.to_numeric(\n",
    "#     sigep_2003_2024_sheet1_filtrado[col],\n",
    "#     errors='coerce'  # transforma erro em NaN\n",
    "#     )\n",
    "\n"
   ]
  },
  {
   "cell_type": "code",
   "execution_count": null,
   "id": "c71e83b3",
   "metadata": {},
   "outputs": [],
   "source": [
    "# #renomear colunas modificadas\n",
    "# sigep_2003_2024_sheet1_filtrado = sigep_2003_2024_sheet1_filtrado.rename(columns={\n",
    "#     'Fração de Destilados|Lev|Vol': '(%) Fração de Destilados|Lev|Vol',\n",
    "#     'Fração de Destilados|Méd|Vol': '(%) Fração de Destilados|Méd|Vol',\n",
    "#     'Fração de Destilados|Pes|Vol': '(%) Fração de Destilados|Pes|Vol'\n",
    "# })"
   ]
  },
  {
   "cell_type": "code",
   "execution_count": null,
   "id": "ee54d351",
   "metadata": {},
   "outputs": [],
   "source": [
    "# sigep_2003_2024_sheet1_filtrado[\"Instalação Destino\"] = (\n",
    "#     sigep_2003_2024_sheet1_filtrado[\"Instalação Destino\"]\n",
    "#     .astype(str)\n",
    "#     .str.replace(\n",
    "#         r\"(?i)petrobras\\s+\\d+\\s*\\(?(P-\\d+)?\\)?\",\n",
    "#         lambda m: m.group(1) if m.group(1) else \"P-\" + \"\".join(filter(str.isdigit, m.group(0))),\n",
    "#         regex=True\n",
    "#     )\n",
    "# )\n"
   ]
  },
  {
   "cell_type": "code",
   "execution_count": null,
   "id": "0b8a5c00",
   "metadata": {},
   "outputs": [],
   "source": [
    "# #tirar caracteres malformatados recodificando a coluna 'Instalação Destino'\n",
    "\n",
    "# sigep_2003_2024_sheet1_filtrado['Instalação Destino'] =  sigep_2003_2024_sheet1_filtrado['Instalação Destino'].astype(str).apply(unidecode)"
   ]
  },
  {
   "cell_type": "code",
   "execution_count": null,
   "id": "91f4e73d",
   "metadata": {},
   "outputs": [],
   "source": [
    "# #remover valores nulos do df sigep_2003_2024_sheet1_filtrado\n",
    "# sigep_2003_2024_sheet1_filtrado['Instalação Destino'] = sigep_2003_2024_sheet1_filtrado['Instalação Destino'].replace(['','NaN', 'nan', 'None'],np.nan)\n",
    "# sigep_2003_2024_sheet1_filtrado = sigep_2003_2024_sheet1_filtrado.dropna(subset=['Instalação Destino'])"
   ]
  },
  {
   "cell_type": "code",
   "execution_count": null,
   "id": "747e2af5",
   "metadata": {},
   "outputs": [],
   "source": [
    "# #colocar a coluna 'Instalação Destino' como primeira coluna\n",
    "# sigep_2003_2024_sheet1_filtrado = sigep_2003_2024_sheet1_filtrado[['Instalação Destino']+ [col for col in sigep_2003_2024_sheet1_filtrado.columns if col != 'Instalação Destino']]"
   ]
  },
  {
   "cell_type": "code",
   "execution_count": null,
   "id": "ec63d2c4",
   "metadata": {},
   "outputs": [],
   "source": [
    "# campos = campos.rename(columns= {'name':'Campo'})"
   ]
  },
  {
   "cell_type": "code",
   "execution_count": null,
   "id": "18522a04",
   "metadata": {},
   "outputs": [],
   "source": [
    "# sigep_2003_2024_sheet1_filtrado = pd.merge(\n",
    "#     sigep_2003_2024_sheet1_filtrado,\n",
    "#     campos[['Campo','geometry']],\n",
    "#     on='Campo',\n",
    "#     how = 'left'\n",
    "# )"
   ]
  },
  {
   "cell_type": "code",
   "execution_count": null,
   "id": "1e5c585e",
   "metadata": {},
   "outputs": [],
   "source": [
    "# #remover duplicados \n",
    "# sigep_2003_2024_sem_duplicados = sigep_2003_2024_sheet1_filtrado.drop_duplicates(subset=['Óleo (bbl/dia)'])\n",
    "# sigep_2003_2024_sem_duplicados['Ano']= pd.to_datetime(sigep_2003_2024_sem_duplicados['Período'], format=\"%Y/%m\").dt.year"
   ]
  },
  {
   "cell_type": "code",
   "execution_count": null,
   "id": "4e463651",
   "metadata": {},
   "outputs": [],
   "source": [
    "# # 1. Converter coluna Período para datetime mensal\n",
    "# sigep_2003_2024_sem_duplicados[\"Período\"] = pd.to_datetime(\n",
    "#     sigep_2003_2024_sem_duplicados[\"Período\"].astype(str),\n",
    "#     format=\"%Y/%m\",   # espera valores tipo 2003/01\n",
    "#     errors=\"coerce\"\n",
    "# )\n",
    "\n",
    "# # 2. Criar colunas auxiliares\n",
    "# sigep_2003_2024_sem_duplicados[\"Ano\"] = sigep_2003_2024_sem_duplicados[\"Período\"].dt.year\n",
    "# sigep_2003_2024_sem_duplicados[\"Mes\"] = sigep_2003_2024_sem_duplicados[\"Período\"].dt.month\n",
    "# sigep_2003_2024_sem_duplicados[\"AnoMes\"] = sigep_2003_2024_sem_duplicados[\"Período\"].dt.to_period(\"M\").astype(str)\n",
    "# sigep_2003_2024_sem_duplicados[\"Dias_mes\"] = sigep_2003_2024_sem_duplicados[\"Período\"].dt.days_in_month\n",
    "\n",
    "# # 3. Identificar colunas de taxa (bbl/dia ou Mm³/dia)\n",
    "# colunas_taxa = [c for c in sigep_2003_2024_sem_duplicados.columns if \"(bbl/dia)\" in c or \"(Mm³/dia)\" in c]\n",
    "\n",
    "# # 4. Converter taxas diárias em volumes mensais\n",
    "# for col in colunas_taxa:\n",
    "#     novo_nome = col.replace(\"(bbl/dia)\", \"(bbl/mês)\").replace(\"(Mm³/dia)\", \"(Mm³/mês)\")\n",
    "#     sigep_2003_2024_sem_duplicados[novo_nome] = (\n",
    "#         sigep_2003_2024_sem_duplicados[col] * sigep_2003_2024_sem_duplicados[\"Dias_mes\"]\n",
    "#     )\n",
    "\n",
    "# # 5. Produção mensal consolidada\n",
    "# producao_mensal = (\n",
    "#     sigep_2003_2024_sem_duplicados\n",
    "#     .groupby([\"AnoMes\", \"Instalação Destino\"])[[c for c in sigep_2003_2024_sem_duplicados.columns \n",
    "#                                                if \"(bbl/mês)\" in c or \"(Mm³/mês)\" in c]]\n",
    "#     .sum()\n",
    "#     .reset_index()\n",
    "# )\n",
    "\n",
    "# # 6. Identificar colunas de composição (% e Grau API)\n",
    "# colunas_comp = [c for c in sigep_2003_2024_sem_duplicados.columns if \"% em Volumes\" in c or \"Grau API\" in c or '(%) Fração' in c]\n",
    "\n",
    "# # 7. Função para média ponderada (usando petróleo como peso)\n",
    "# def media_ponderada(grupo):\n",
    "#     peso = grupo[\"Petróleo (bbl/mês)\"]\n",
    "#     if peso.sum() == 0:  # evita divisão por zero\n",
    "#         return grupo[colunas_comp].mean()\n",
    "#     return (grupo[colunas_comp].multiply(peso, axis=0).sum() / peso.sum())\n",
    "\n",
    "# # 8. Calcular composição mensal ponderada\n",
    "# comp_mensal = (\n",
    "#     sigep_2003_2024_sem_duplicados\n",
    "#     .groupby([\"AnoMes\", \"Instalação Destino\"], group_keys=False)\n",
    "#     .apply(media_ponderada)\n",
    "#     .reset_index()\n",
    "# )\n",
    "\n",
    "# # 9. Juntar Produção + Composição\n",
    "# resultado_final = producao_mensal.merge(comp_mensal, on=[\"AnoMes\", \"Instalação Destino\"])\n",
    "\n",
    "# # 10. Exportar CSV\n",
    "# resultado_final.to_csv(\"resultado_mensal.csv\", index=False, encoding=\"utf-8-sig\")\n",
    "\n",
    "# print(\"✅ Processamento concluído. Resultado disponível no DataFrame 'resultado_final'\")\n",
    "# print(resultado_final.head())\n",
    "\n",
    "\n"
   ]
  },
  {
   "cell_type": "markdown",
   "id": "ee2c706e",
   "metadata": {},
   "source": [
    "# Tratamento de dados INVENTARIO"
   ]
  },
  {
   "cell_type": "code",
   "execution_count": null,
   "id": "590a27bf",
   "metadata": {},
   "outputs": [],
   "source": [
    "inventario_tims.columns = inventario_tims.iloc[0]\n",
    "\n",
    "inventario_tims = inventario_tims[1:].reset_index(drop=True)"
   ]
  },
  {
   "cell_type": "code",
   "execution_count": null,
   "id": "2057b854",
   "metadata": {},
   "outputs": [],
   "source": [
    "#remover colunas vazias\n",
    "\n",
    "inventario_macae = inventario_macae.dropna(axis=1, how='all')\n",
    "inventario_tims = inventario_tims.dropna(axis=1, how='all')"
   ]
  },
  {
   "cell_type": "code",
   "execution_count": null,
   "id": "7ecaa0de",
   "metadata": {},
   "outputs": [],
   "source": [
    "#10 locais que mais geram \n",
    "\n",
    "top_locais = inventario_macae['LOCAL DA GERAÇÃO'].value_counts().head(10)"
   ]
  },
  {
   "cell_type": "code",
   "execution_count": null,
   "id": "5611622d",
   "metadata": {},
   "outputs": [],
   "source": [
    "plt.figure(figsize=(12,6))\n",
    "sns.barplot(x=top_locais.values, y=top_locais.index, color='steelblue')\n",
    "plt.title('Quantidade de volumes por Local de Geração')\n",
    "plt.ylabel('Local de Geração')\n",
    "plt.xlabel('Quantidade de volumes')\n",
    "\n",
    "plt.show()"
   ]
  },
  {
   "cell_type": "code",
   "execution_count": null,
   "id": "7cf2759b",
   "metadata": {},
   "outputs": [],
   "source": [
    "top_quantidades = (inventario_macae.groupby('LOCAL DA GERAÇÃO')['MASSA DO VOLUME (kg)'].sum().sort_values(ascending=False).head(10))"
   ]
  },
  {
   "cell_type": "code",
   "execution_count": null,
   "id": "d13c1b92",
   "metadata": {},
   "outputs": [],
   "source": [
    "plt.figure(figsize=(12,6))\n",
    "sns.barplot(x=top_quantidades.values, y=top_quantidades.index, color='darkorange')\n",
    "plt.title('Massa de volume por Local de Geração')\n",
    "plt.ylabel('Local de Geração')\n",
    "plt.xlabel('Massa de volume (kg)')"
   ]
  },
  {
   "cell_type": "code",
   "execution_count": null,
   "id": "553f6203",
   "metadata": {},
   "outputs": [],
   "source": [
    "inventario_macae['TIPO DE RESÍDUO'].unique()"
   ]
  },
  {
   "cell_type": "code",
   "execution_count": null,
   "id": "f6961ea7",
   "metadata": {},
   "outputs": [],
   "source": [
    "inventario_tims[' TIPO DE RESÍDUO'].unique()"
   ]
  },
  {
   "cell_type": "code",
   "execution_count": null,
   "id": "fe32e438",
   "metadata": {},
   "outputs": [],
   "source": [
    "map_residuos = {\n",
    "    'BORRA CAT.II':'BORRA CAT II',\n",
    "    'BORRA CAT.I':'BORRA CAT I'\n",
    "}\n",
    "\n",
    "inventario_macae['TIPO DE RESÍDUO'] = (inventario_macae['TIPO DE RESÍDUO'].replace(map_residuos).str.upper().str.strip())"
   ]
  },
  {
   "cell_type": "code",
   "execution_count": null,
   "id": "8c629f67",
   "metadata": {},
   "outputs": [],
   "source": [
    "residuos_por_galpao = (inventario_macae.groupby(['DEPÓSITO', 'TIPO DE RESÍDUO'])['MASSA DO VOLUME (kg)'].sum().reset_index())"
   ]
  },
  {
   "cell_type": "code",
   "execution_count": null,
   "id": "cd693cf9",
   "metadata": {},
   "outputs": [],
   "source": [
    "pivot_residuos = residuos_por_galpao.pivot_table(\n",
    "    index=\"DEPÓSITO\",\n",
    "    columns=\"TIPO DE RESÍDUO\",\n",
    "    values=\"MASSA DO VOLUME (kg)\",\n",
    "    aggfunc=\"sum\",\n",
    "    fill_value=0\n",
    ")"
   ]
  },
  {
   "cell_type": "code",
   "execution_count": null,
   "id": "3edd48c2",
   "metadata": {},
   "outputs": [],
   "source": [
    "pivot_pct = pivot_residuos.div(pivot_residuos.sum(axis=1), axis=0) * 100\n"
   ]
  },
  {
   "cell_type": "code",
   "execution_count": null,
   "id": "4e40e1af",
   "metadata": {},
   "outputs": [],
   "source": [
    "plt.figure(figsize=(12,8))\n",
    "sns.heatmap(\n",
    "    pivot_pct,\n",
    "    cmap=\"Blues\",\n",
    "    annot=True,\n",
    "    fmt=\".1f\",\n",
    "    cbar_kws={'label': '% do resíduo no galpão'},\n",
    "    linewidths=0.5,\n",
    "    linecolor=\"gray\"\n",
    ")\n",
    "plt.title(\"Distribuição percentual de tipos de resíduos por galpão\")\n",
    "plt.xlabel(\"Tipo de Resíduo\")\n",
    "plt.ylabel(\"Galpão / Depósito\")\n",
    "plt.tight_layout()\n",
    "plt.show()\n"
   ]
  },
  {
   "cell_type": "code",
   "execution_count": null,
   "id": "eb0f778b",
   "metadata": {},
   "outputs": [],
   "source": [
    "plt.figure(figsize=(12,8))\n",
    "sns.heatmap(\n",
    "    pivot_residuos,\n",
    "    cmap=\"OrRd\",\n",
    "    annot=True,\n",
    "    fmt=\".0f\",\n",
    "    cbar_kws={'label': 'Massa (kg)'},\n",
    "    linewidths=0.5,\n",
    "    linecolor=\"gray\"\n",
    ")\n",
    "plt.title(\"Distribuição absoluta de tipos de resíduos por galpão\")\n",
    "plt.xlabel(\"Tipo de Resíduo\")\n",
    "plt.ylabel(\"Galpão / Depósito\")\n",
    "plt.tight_layout()\n",
    "plt.show()\n"
   ]
  },
  {
   "cell_type": "code",
   "execution_count": null,
   "id": "d147179b",
   "metadata": {},
   "outputs": [],
   "source": [
    "inventario_macae['TIPO DE RESÍDUO'].unique()"
   ]
  },
  {
   "cell_type": "code",
   "execution_count": null,
   "id": "6dcffcf0",
   "metadata": {},
   "outputs": [],
   "source": [
    "# Criar AnoMes no formato YYYY-MM\n",
    "inventario_macae[\"AnoMes\"] = inventario_macae[\"ANO DE GERAÇÃO (DATA SIGRE)\"].dt.to_period(\"M\").astype(str)\n",
    "\n",
    "# 1) Soma mensal por depósito + tipo de resíduo\n",
    "soma_mensal = (\n",
    "    inventario_macae\n",
    "    .groupby([\"AnoMes\",\"LOCAL DA GERAÇÃO\",\"TIPO DE RESÍDUO\"], as_index=False)[\"MASSA DO VOLUME (kg)\"]\n",
    "    .sum()\n",
    "    .reset_index(drop=True)   # garante DataFrame\n",
    "    .sort_values([\"LOCAL DA GERAÇÃO\",\"TIPO DE RESÍDUO\",\"AnoMes\"])   \n",
    ")\n",
    "\n",
    "# 2) Acumulado correto por depósito + tipo\n",
    "soma_mensal[\"Acumulado (kg)\"] = (\n",
    "    soma_mensal.groupby([\"LOCAL DA GERAÇÃO\",\"TIPO DE RESÍDUO\"])[\"MASSA DO VOLUME (kg)\"].cumsum()\n",
    ")\n",
    "\n",
    "# 3) Pivot para formato largo\n",
    "acumulado_residuo = (\n",
    "    soma_mensal\n",
    "    .pivot_table(\n",
    "        index=[\"AnoMes\",\"LOCAL DA GERAÇÃO\"],\n",
    "        columns=\"TIPO DE RESÍDUO\",\n",
    "        values=\"Acumulado (kg)\",\n",
    "        aggfunc=\"last\",\n",
    "        fill_value=0\n",
    "    )\n",
    "    .reset_index()\n",
    ")\n",
    "\n",
    "# 4) Renomear colunas para deixar claro\n",
    "acumulado_residuo = acumulado_residuo.rename(\n",
    "    columns=lambda x: f\"Acumulado {x}\" if x not in [\"AnoMes\",\"LOCAL DA GERAÇÃO\"] else x\n",
    ")\n",
    "\n",
    "print(acumulado_residuo.head())\n"
   ]
  },
  {
   "cell_type": "code",
   "execution_count": null,
   "id": "57c129b3",
   "metadata": {},
   "outputs": [],
   "source": [
    "\n",
    "\n",
    "deposito = \"FPSO-CST\"\n",
    "dados = acumulado_residuo[acumulado_residuo[\"LOCAL DA GERAÇÃO\"] == deposito]\n",
    "\n",
    "# Transformar dados de wide → long\n",
    "dados_long = dados.melt(\n",
    "    id_vars=[\"AnoMes\", \"LOCAL DA GERAÇÃO\"],\n",
    "    value_vars=[c for c in dados.columns if c.startswith(\"Acumulado\")],\n",
    "    var_name=\"Tipo de Resíduo\",\n",
    "    value_name=\"Acumulado (kg)\"\n",
    ")\n",
    "\n",
    "# Deixar o nome mais limpo\n",
    "dados_long[\"Tipo de Resíduo\"] = dados_long[\"Tipo de Resíduo\"].str.replace(\"Acumulado \", \"\")\n",
    "\n",
    "# Gráfico interativo\n",
    "fig = px.line(\n",
    "    dados_long,\n",
    "    x=\"AnoMes\",\n",
    "    y=\"Acumulado (kg)\",\n",
    "    color=\"Tipo de Resíduo\",\n",
    "    title=f\"Evolução acumulada de resíduos - {deposito}\"\n",
    ")\n",
    "\n",
    "fig.update_traces(mode='markers+lines')\n",
    "# Ajustes visuais\n",
    "fig.update_layout(\n",
    "    xaxis=dict(tickangle=-45),\n",
    "    legend=dict(title=\"Clique para ligar/desligar resíduos\")\n",
    ")\n",
    "\n",
    "fig.show()\n"
   ]
  },
  {
   "cell_type": "markdown",
   "id": "4e8dd064",
   "metadata": {},
   "source": [
    "# Unir SIGEP e INVENTARIO MACAÉ"
   ]
  },
  {
   "cell_type": "code",
   "execution_count": null,
   "id": "97735a94",
   "metadata": {},
   "outputs": [],
   "source": [
    "#remover colunas que n]ao serão utilizadas\n",
    "\n",
    "inventario_macae_filtrado = inventario_macae[['DEPÓSITO', 'TIPO DE RESÍDUO', 'AnoMes', 'MASSA DO VOLUME (kg)','LOCAL DA GERAÇÃO','TAXA DE DOSE (µSv/h) DEPÓSITO']]\n",
    "inventario_macae_filtrado = inventario_macae_filtrado.rename(columns={'LOCAL DA GERAÇÃO':'Instalação Destino'})"
   ]
  },
  {
   "cell_type": "code",
   "execution_count": null,
   "id": "c691a839",
   "metadata": {},
   "outputs": [],
   "source": [
    "# unidos = resultado_final.merge(inventario_macae_filtrado,\n",
    "#                                on=['Instalação Destino','AnoMes'],\n",
    "#                                how='left',\n",
    "#                                suffixes=('', '_inventario')\n",
    "# )"
   ]
  },
  {
   "cell_type": "markdown",
   "id": "d199c16e",
   "metadata": {},
   "source": [
    "# Análise por Instalação destino"
   ]
  },
  {
   "cell_type": "code",
   "execution_count": null,
   "id": "a011fea5",
   "metadata": {},
   "outputs": [],
   "source": [
    "inventario_macae['Ano'] = pd.to_datetime(inventario_macae['AnoMes'], errors = 'coerce').dt.year.astype('Int64')\n"
   ]
  },
  {
   "cell_type": "code",
   "execution_count": null,
   "id": "79b20aaf",
   "metadata": {},
   "outputs": [],
   "source": [
    "print(inventario_macae[inventario_macae['LOCAL DA GERAÇÃO']== 'FPSO-CST']['Ano'].unique())"
   ]
  },
  {
   "cell_type": "code",
   "execution_count": null,
   "id": "738d7f75",
   "metadata": {},
   "outputs": [],
   "source": [
    "zeros = inventario_macae_filtrado[inventario_macae_filtrado[\"MASSA DO VOLUME (kg)\"] == 0]\n",
    "print(\"Total de registros iguais a zero:\", len(zeros))\n",
    "\n"
   ]
  },
  {
   "cell_type": "code",
   "execution_count": null,
   "id": "a01a90e9",
   "metadata": {},
   "outputs": [],
   "source": [
    "import numpy as np\n",
    "import matplotlib.pyplot as plt\n",
    "import scipy.stats as st\n",
    "inventario_macae['Ano'] = pd.to_datetime(inventario_macae['AnoMes'], errors = 'coerce').dt.year.astype('Int64')\n",
    "\n",
    "# anos só da FPSO-CST\n",
    "anos = sorted(\n",
    "    inventario_macae[inventario_macae['LOCAL DA GERAÇÃO'] == 'FPSO-CST']['Ano']\n",
    "    .dropna()\n",
    "    .unique()\n",
    ")\n",
    "\n",
    "plt.figure(figsize=(12, 8))\n",
    "for ano in anos:\n",
    "    data = inventario_macae[\n",
    "        (inventario_macae['Ano'] == ano) &\n",
    "        (inventario_macae['LOCAL DA GERAÇÃO'] == 'FPSO-CST') &\n",
    "        (inventario_macae['MASSA DO VOLUME (kg)'] > 0)\n",
    "    ]['MASSA DO VOLUME (kg)'].dropna()\n",
    "\n",
    "    if len(data) > 5:\n",
    "        alpha, loc, beta = st.gamma.fit(data, floc=0)\n",
    "        x = np.linspace(min(data), max(data), 200)\n",
    "        pdf = st.gamma.pdf(x, alpha, loc=loc, scale=beta)\n",
    "\n",
    "        plt.hist(data, bins=30, density=True, alpha=0.5)\n",
    "        plt.plot(x, pdf, label=f\"Gama {ano} (α={alpha:.1f}, β={beta:.1f})\")\n",
    "\n",
    "plt.title('Distribuição de resíduos por ano (Gama ajustada) - FPSO-CST')\n",
    "plt.xlabel('Massa do Volume (kg)')\n",
    "plt.ylabel('Densidade')\n",
    "plt.legend()\n",
    "plt.grid(True)\n",
    "plt.show()\n",
    "\n",
    "\n"
   ]
  },
  {
   "cell_type": "code",
   "execution_count": null,
   "id": "e3c711e4",
   "metadata": {},
   "outputs": [],
   "source": [
    "popt_alpha, popt_scale, popt_loc, params_df = regressao_parametros_gamma(\n",
    "    inventario_macae,\n",
    "    unidade='P-48',\n",
    "    parametro='MASSA DO VOLUME (kg)',\n",
    "    regressao='linear',   # pode trocar por 'polinomial' ou 'exponencial'\n",
    "    floc=True,\n",
    "    plotar=True           # exibe os gráficos lado a lado\n",
    ")\n"
   ]
  }
 ],
 "metadata": {
  "kernelspec": {
   "display_name": "Python 3",
   "language": "python",
   "name": "python3"
  },
  "language_info": {
   "codemirror_mode": {
    "name": "ipython",
    "version": 3
   },
   "file_extension": ".py",
   "mimetype": "text/x-python",
   "name": "python",
   "nbconvert_exporter": "python",
   "pygments_lexer": "ipython3",
   "version": "3.11.0"
  }
 },
 "nbformat": 4,
 "nbformat_minor": 5
}
